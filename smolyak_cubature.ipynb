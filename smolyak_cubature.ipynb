{
 "cells": [
  {
   "cell_type": "code",
   "execution_count": 1,
   "metadata": {},
   "outputs": [],
   "source": [
    "import math\n",
    "import numpy as np"
   ]
  },
  {
   "cell_type": "code",
   "execution_count": 6,
   "metadata": {},
   "outputs": [],
   "source": [
    "class function(object):\n",
    "    \"\"\"\n",
    "    Dimensions: d\n",
    "\n",
    "    self.u is a list of length d where each element is chosen from [0, 1]\n",
    "    \n",
    "    self.a is a list of length d where each element is chosen from the real numbers\n",
    "    \"\"\"\n",
    "    def __init__(self, a, u):\n",
    "        assert(len(a)==len(u))\n",
    "        self.a = a\n",
    "        self.u = u\n",
    "    def evaluate(self, x):\n",
    "        raise NotImplementedError(\"evaluate function not implemented\")"
   ]
  },
  {
   "cell_type": "code",
   "execution_count": 7,
   "metadata": {},
   "outputs": [],
   "source": [
    "class continuous_function(function):\n",
    "    def evaluate(self, x):\n",
    "        d = len(self.a)\n",
    "        assert(len(x)==d)\n",
    "        sum = 0\n",
    "        for i in range(1, d):\n",
    "            xi = x[i]\n",
    "            ai = a[i]\n",
    "            ui = u[i]\n",
    "            sum += ai*abs(xi-ui) # does it matter that we don't do backwards stable cumsum\n",
    "        return np.exp(sum)"
   ]
  },
  {
   "cell_type": "code",
   "execution_count": 9,
   "metadata": {},
   "outputs": [],
   "source": [
    "a = [2,2]\n",
    "u = [.5,.5]\n",
    "f = continuous_function(a,u)"
   ]
  },
  {
   "cell_type": "code",
   "execution_count": 10,
   "metadata": {},
   "outputs": [
    {
     "data": {
      "text/plain": [
       "1.0"
      ]
     },
     "execution_count": 10,
     "metadata": {},
     "output_type": "execute_result"
    }
   ],
   "source": [
    "f.evaluate([.5,.5])"
   ]
  },
  {
   "cell_type": "code",
   "execution_count": 11,
   "metadata": {},
   "outputs": [],
   "source": [
    "def create_oscillitory_function():\n",
    "    pass #cos(2 * pi * u + sum(a_i*x_i))"
   ]
  },
  {
   "cell_type": "code",
   "execution_count": 12,
   "metadata": {},
   "outputs": [],
   "source": [
    "def create_discontinuous_function():\n",
    "    pass"
   ]
  },
  {
   "cell_type": "code",
   "execution_count": 13,
   "metadata": {},
   "outputs": [],
   "source": [
    "def create_product_peak_function():\n",
    "    pass"
   ]
  },
  {
   "cell_type": "code",
   "execution_count": null,
   "metadata": {},
   "outputs": [],
   "source": [
    "def generate_random_u(d):\n",
    "    u = []\n",
    "    for i in range(d):\n",
    "        np.random.rand(3,1)"
   ]
  },
  {
   "cell_type": "code",
   "execution_count": null,
   "metadata": {},
   "outputs": [],
   "source": [
    "def generate_random_a(d):\n",
    "    "
   ]
  },
  {
   "cell_type": "code",
   "execution_count": 14,
   "metadata": {},
   "outputs": [
    {
     "data": {
      "text/plain": [
       "1.0"
      ]
     },
     "execution_count": 14,
     "metadata": {},
     "output_type": "execute_result"
    }
   ],
   "source": [
    "a = [1,1,1]\n",
    "u = [1,1,1]\n",
    "f = continuous_function(a,u)\n",
    "f.evaluate([1,1,1])"
   ]
  },
  {
   "cell_type": "code",
   "execution_count": null,
   "metadata": {},
   "outputs": [],
   "source": []
  }
 ],
 "metadata": {
  "kernelspec": {
   "display_name": "ml",
   "language": "python",
   "name": "ml"
  },
  "language_info": {
   "codemirror_mode": {
    "name": "ipython",
    "version": 3
   },
   "file_extension": ".py",
   "mimetype": "text/x-python",
   "name": "python",
   "nbconvert_exporter": "python",
   "pygments_lexer": "ipython3",
   "version": "3.8.5"
  }
 },
 "nbformat": 4,
 "nbformat_minor": 4
}
